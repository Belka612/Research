{
 "cells": [
  {
   "cell_type": "code",
   "execution_count": 1,
   "metadata": {},
   "outputs": [],
   "source": [
    "from belka_library import *"
   ]
  },
  {
   "cell_type": "markdown",
   "metadata": {},
   "source": [
    "## ON ZSIGMONDY PRIMES  "
   ]
  },
  {
   "cell_type": "markdown",
   "metadata": {},
   "source": [
    "円分多項式\n",
    "$$\\Phi_{n}(X) = \\prod_{i = 1}^{\\varphi(n)}(X - \\epsilon_{i})$$"
   ]
  },
  {
   "cell_type": "markdown",
   "metadata": {},
   "source": [
    "**補題1.** $a > 1$かつ$n = q^{i}r$を整数とする。ここで、$q$は素数、$i \\geq 1, r$は$q$を割り切らない整数、さらに、$b = a^{q^{i-1}}$とする。このとき、次の不等式が成り立つ。\n",
    "$$\\Phi_{n}(a) > (b^{q-2}(b - 1))^{\\varphi(r)}$$"
   ]
  },
  {
   "cell_type": "markdown",
   "metadata": {},
   "source": [
    "**特性2.** $a > 1, n > 1$を整数とする。さらに、$\\Phi_{n}(a)$の素因数$q$を考える。このとき、次のことが成り立つ。  \n",
    "- $q$が$\\langle a, n \\rangle$のZsigmondy素数でないとき、かつそのときに限り$q$は$n$を割り切る。このとき、$q$は$n$の最大の素因数であり、$n = q^{i}r$の形をとる。ただし、$r$は$q - 1$を割る正の整数である。さらに、$q^{2}$は$\\Phi_{n}(a)$を割らない。ただし、例外として$q = n = 2$の場合は、$q^{2}$が$\\Phi_{n}(a)$を割り切る。  \n",
    "\n",
    "　従って、$\\langle a, n \\rangle$に対してZsigmondy素数が存在しないならば、$\\Phi_{n}(a)$は$q$のべき乗となる。また、$n > 2$の場合、$\\Phi_{n}(a) = q$である。"
   ]
  },
  {
   "cell_type": "markdown",
   "metadata": {},
   "source": [
    "**定理3.(Zsigmondyの定理)**  $a$と$n$を1より大きい整数とする。このとき、次の性質を持つ素数$q$が存在する。  \n",
    "- $q$は$a^{n}-1$を割り切り、$0 < \\forall j < n$に対し、$q$は$a^{j} - 1$を割り切らない。\n",
    "\n",
    "ただし、以下の場合に限り、例外としてそのような$q$は存在しない。  \n",
    "1. $s \\geq 2$に対し、$n = 2$かつ$a = 2^{s} - 1$\n",
    "2. $n = 6$かつ$a = 2$"
   ]
  },
  {
   "cell_type": "code",
   "execution_count": null,
   "metadata": {},
   "outputs": [],
   "source": [
    "def zsigmondy_prime(a, n):\n",
    "    if a <= 1 or n <= 1:\n",
    "        return ValueError(\"aとnは共に1より大きい整数を入力してください。\")\n",
    "    # 例外処理\n",
    "    if n == 2 and is_mersenner_number(a):\n",
    "        return None\n",
    "    if n == 6 and a == 2:\n",
    "        return None\n",
    "    primes = factorization(a**n - 1)\n",
    "    for p, e in primes:\n",
    "        is_zsigmondy = True\n",
    "        for j in range(1, n):\n",
    "            if (a**j - 1) % p == 0:\n",
    "                is_zsigmondy = False\n",
    "                break\n",
    "        if is_zsigmondy:\n",
    "            return p"
   ]
  },
  {
   "cell_type": "markdown",
   "metadata": {},
   "source": [
    "**系4.** $a, n$を1より大きい整数とする。また、$q$を$n$の最大の素因数とする。$\\langle a, n \\rangle$に対して、$q$がZsigmondy素数であるが、大きなZsigmondy素数でない場合、$n + 1$が$\\langle a, n \\rangle$に対する唯一のZsigmondy素数である。$n > 2$の場合、$\\Phi_{n}(a) = n + 1$または$\\Phi_{n}(a) = q(n + 1)$である。\n"
   ]
  },
  {
   "cell_type": "markdown",
   "metadata": {},
   "source": [
    "**補題5.** $n \\geq 1, n \\neq 6$のとき、$2^{\\varphi(n)} \\geq 2$である。それゆえ、任意の$n \\geq 1$に対し、$2^{\\varphi(n)} \\geq \\frac{2}{3}n$が成り立つ。"
   ]
  },
  {
   "cell_type": "markdown",
   "metadata": {},
   "source": [
    "**定理6.** $a$と$n$を1より大きい整数とする。このとき、$\\langle a, n \\rangle$に対し、大きなZsigmondy素数が存在する。ただし、以下の場合は例外となる。\n",
    "1. $a = 2$かつ$n = 4, 6, 10, 12, 18$.\n",
    "2. $a = 3$かつ$n = 4, 6$.\n",
    "3. $a = 3$かつ$n = 4, 6$.\n",
    "4. $\\langle a, n \\rangle = \\langle 4, 6 \\rangle$."
   ]
  },
  {
   "cell_type": "markdown",
   "metadata": {},
   "source": [
    "**補題7.** $a > 1$かつ$n > 2$を整数とする。このとき、\n",
    "$$\\Phi_{n}(a) > a^{\\varphi(n)/2}.$$"
   ]
  },
  {
   "cell_type": "markdown",
   "metadata": {},
   "source": [
    "**補題8.** 任意の$n \\geq 1$に対し、$\\varphi(n) \\geq \\sqrt{n}/2$が成り立つ。"
   ]
  },
  {
   "cell_type": "markdown",
   "metadata": {},
   "source": [
    "**系9.** 任意の$a > 1, n > 2$に対し、以下が成り立つ。\n",
    "$$\\Phi_{n}(a) > a^{\\frac{\\sqrt{n}}{4}}.$$"
   ]
  },
  {
   "cell_type": "markdown",
   "metadata": {},
   "source": [
    "**定理10.** $N$を正の整数とする。このとき、$a > 1$かつ$n > 2$を満たす整数の対$\\langle a, n \\rangle$のうち有限個を除き、次の式を満たすZsigmondy素数$p$が存在する。\n",
    "$$ |a^{n} - 1|_{p} > nN + 1$$"
   ]
  }
 ],
 "metadata": {
  "kernelspec": {
   "display_name": "base",
   "language": "python",
   "name": "python3"
  },
  "language_info": {
   "codemirror_mode": {
    "name": "ipython",
    "version": 3
   },
   "file_extension": ".py",
   "mimetype": "text/x-python",
   "name": "python",
   "nbconvert_exporter": "python",
   "pygments_lexer": "ipython3",
   "version": "3.10.9"
  }
 },
 "nbformat": 4,
 "nbformat_minor": 2
}
