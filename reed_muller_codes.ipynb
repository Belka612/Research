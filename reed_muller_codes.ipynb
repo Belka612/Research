{
 "cells": [
  {
   "cell_type": "markdown",
   "metadata": {},
   "source": [
    "## Reed-Muller符号  "
   ]
  },
  {
   "cell_type": "markdown",
   "metadata": {},
   "source": [
    "codes.ReedMullerCode(GF, r, m)の説明  \n",
    "- GF  \n",
    "符号が定義される有限体  \n",
    "- r  \n",
    "符号の次数 r次多項式  \n",
    "- m  \n",
    "多項式に含まれる変数の数  "
   ]
  },
  {
   "cell_type": "code",
   "execution_count": 17,
   "metadata": {},
   "outputs": [],
   "source": [
    "from math import comb"
   ]
  },
  {
   "cell_type": "code",
   "execution_count": 60,
   "metadata": {},
   "outputs": [],
   "source": [
    "p = 2; m = 1\n",
    "F = GF(p**m, name = 'a')\n",
    "r = 1\n",
    "variables = 3\n",
    "GRM = codes.ReedMullerCode(F, r, variables)"
   ]
  },
  {
   "cell_type": "markdown",
   "metadata": {},
   "source": [
    "### Reed-Muller符号の性質確認  "
   ]
  },
  {
   "cell_type": "markdown",
   "metadata": {},
   "source": [
    "生成行列"
   ]
  },
  {
   "cell_type": "code",
   "execution_count": 27,
   "metadata": {},
   "outputs": [
    {
     "data": {
      "text/plain": [
       "[1 1 1 1 1 1 1 1]\n",
       "[0 1 0 1 0 1 0 1]\n",
       "[0 0 1 1 0 0 1 1]\n",
       "[0 0 0 0 1 1 1 1]"
      ]
     },
     "execution_count": 27,
     "metadata": {},
     "output_type": "execute_result"
    }
   ],
   "source": [
    "GRM.generator_matrix()"
   ]
  },
  {
   "cell_type": "markdown",
   "metadata": {},
   "source": [
    "パリティ検査行列"
   ]
  },
  {
   "cell_type": "code",
   "execution_count": 28,
   "metadata": {},
   "outputs": [
    {
     "data": {
      "text/plain": [
       "[1 0 0 1 0 1 1 0]\n",
       "[0 1 0 1 0 1 0 1]\n",
       "[0 0 1 1 0 0 1 1]\n",
       "[0 0 0 0 1 1 1 1]"
      ]
     },
     "execution_count": 28,
     "metadata": {},
     "output_type": "execute_result"
    }
   ],
   "source": [
    "GRM.parity_check_matrix()"
   ]
  },
  {
   "cell_type": "markdown",
   "metadata": {},
   "source": [
    "符号長"
   ]
  },
  {
   "cell_type": "code",
   "execution_count": 29,
   "metadata": {},
   "outputs": [
    {
     "data": {
      "text/plain": [
       "8"
      ]
     },
     "execution_count": 29,
     "metadata": {},
     "output_type": "execute_result"
    }
   ],
   "source": [
    "GRM.length()"
   ]
  },
  {
   "cell_type": "markdown",
   "metadata": {},
   "source": [
    "符号の次元"
   ]
  },
  {
   "cell_type": "code",
   "execution_count": 30,
   "metadata": {},
   "outputs": [],
   "source": [
    "def reed_muller_dim(r, m):\n",
    "    res = 0\n",
    "    for i in range(r+1):\n",
    "        res += comb(m, i)\n",
    "    return res"
   ]
  },
  {
   "cell_type": "code",
   "execution_count": 31,
   "metadata": {},
   "outputs": [
    {
     "data": {
      "text/plain": [
       "4"
      ]
     },
     "execution_count": 31,
     "metadata": {},
     "output_type": "execute_result"
    }
   ],
   "source": [
    "reed_muller_dim(r, variables)"
   ]
  },
  {
   "cell_type": "code",
   "execution_count": 32,
   "metadata": {},
   "outputs": [
    {
     "data": {
      "text/plain": [
       "4"
      ]
     },
     "execution_count": 32,
     "metadata": {},
     "output_type": "execute_result"
    }
   ],
   "source": [
    "GRM.dimension()"
   ]
  },
  {
   "cell_type": "markdown",
   "metadata": {},
   "source": [
    "最小距離"
   ]
  },
  {
   "cell_type": "code",
   "execution_count": 33,
   "metadata": {},
   "outputs": [
    {
     "data": {
      "text/plain": [
       "4"
      ]
     },
     "execution_count": 33,
     "metadata": {},
     "output_type": "execute_result"
    }
   ],
   "source": [
    "GRM.minimum_distance()"
   ]
  },
  {
   "cell_type": "markdown",
   "metadata": {},
   "source": [
    "符号語"
   ]
  },
  {
   "cell_type": "code",
   "execution_count": 34,
   "metadata": {},
   "outputs": [
    {
     "data": {
      "text/plain": [
       "[(0, 0, 0, 0, 0, 0, 0, 0),\n",
       " (1, 1, 1, 1, 1, 1, 1, 1),\n",
       " (0, 1, 0, 1, 0, 1, 0, 1),\n",
       " (1, 0, 1, 0, 1, 0, 1, 0),\n",
       " (0, 0, 1, 1, 0, 0, 1, 1),\n",
       " (1, 1, 0, 0, 1, 1, 0, 0),\n",
       " (0, 1, 1, 0, 0, 1, 1, 0),\n",
       " (1, 0, 0, 1, 1, 0, 0, 1),\n",
       " (0, 0, 0, 0, 1, 1, 1, 1),\n",
       " (1, 1, 1, 1, 0, 0, 0, 0),\n",
       " (0, 1, 0, 1, 1, 0, 1, 0),\n",
       " (1, 0, 1, 0, 0, 1, 0, 1),\n",
       " (0, 0, 1, 1, 1, 1, 0, 0),\n",
       " (1, 1, 0, 0, 0, 0, 1, 1),\n",
       " (0, 1, 1, 0, 1, 0, 0, 1),\n",
       " (1, 0, 0, 1, 0, 1, 1, 0)]"
      ]
     },
     "execution_count": 34,
     "metadata": {},
     "output_type": "execute_result"
    }
   ],
   "source": [
    "list(GRM)"
   ]
  },
  {
   "cell_type": "markdown",
   "metadata": {},
   "source": [
    "双対符号"
   ]
  },
  {
   "cell_type": "code",
   "execution_count": 35,
   "metadata": {},
   "outputs": [
    {
     "data": {
      "text/plain": [
       "[8, 4] linear code over GF(2)"
      ]
     },
     "execution_count": 35,
     "metadata": {},
     "output_type": "execute_result"
    }
   ],
   "source": [
    "GRM.dual_code()"
   ]
  },
  {
   "cell_type": "markdown",
   "metadata": {},
   "source": [
    "### ブロックの構成  "
   ]
  },
  {
   "cell_type": "code",
   "execution_count": 61,
   "metadata": {},
   "outputs": [
    {
     "data": {
      "text/plain": [
       "[[],\n",
       " [0, 1, 2, 3, 4, 5, 6, 7],\n",
       " [1, 3, 5, 7],\n",
       " [0, 2, 4, 6],\n",
       " [2, 3, 6, 7],\n",
       " [0, 1, 4, 5],\n",
       " [1, 2, 5, 6],\n",
       " [0, 3, 4, 7],\n",
       " [4, 5, 6, 7],\n",
       " [0, 1, 2, 3],\n",
       " [1, 3, 4, 6],\n",
       " [0, 2, 5, 7],\n",
       " [2, 3, 4, 5],\n",
       " [0, 1, 6, 7],\n",
       " [1, 2, 4, 7],\n",
       " [0, 3, 5, 6]]"
      ]
     },
     "execution_count": 61,
     "metadata": {},
     "output_type": "execute_result"
    }
   ],
   "source": [
    "blocks = []\n",
    "for code in list(GRM):\n",
    "    block = [i for i, bit in enumerate(code) if bit == 1]\n",
    "    blocks.append(block)\n",
    "blocks"
   ]
  },
  {
   "cell_type": "markdown",
   "metadata": {},
   "source": [
    "### Rank metricへの拡張  "
   ]
  },
  {
   "cell_type": "code",
   "execution_count": 43,
   "metadata": {},
   "outputs": [],
   "source": [
    "def codeword_to_matrix(codeword, m):\n",
    "    expanded = []\n",
    "    for element in codeword:\n",
    "        poly = element.polynomial()\n",
    "        coeffs = poly.coefficients(sparse=False)\n",
    "        coeffs += [0] * (m - len(coeffs))\n",
    "        expanded.append(coeffs)\n",
    "    flat_list = [coeff for vec in expanded for coeff in vec]\n",
    "    return Matrix(GF(p), len(codeword), m, flat_list)"
   ]
  },
  {
   "cell_type": "code",
   "execution_count": 47,
   "metadata": {},
   "outputs": [
    {
     "data": {
      "text/plain": [
       "[\n",
       "[0]  [1]  [0]  [1]  [0]  [1]  [0]  [1]  [0]  [1]  [0]  [1]  [0]  [1]\n",
       "[0]  [1]  [1]  [0]  [0]  [1]  [1]  [0]  [0]  [1]  [1]  [0]  [0]  [1]\n",
       "[0]  [1]  [0]  [1]  [1]  [0]  [1]  [0]  [0]  [1]  [0]  [1]  [1]  [0]\n",
       "[0]  [1]  [1]  [0]  [1]  [0]  [0]  [1]  [0]  [1]  [1]  [0]  [1]  [0]\n",
       "[0]  [1]  [0]  [1]  [0]  [1]  [0]  [1]  [1]  [0]  [1]  [0]  [1]  [0]\n",
       "[0]  [1]  [1]  [0]  [0]  [1]  [1]  [0]  [1]  [0]  [0]  [1]  [1]  [0]\n",
       "[0]  [1]  [0]  [1]  [1]  [0]  [1]  [0]  [1]  [0]  [1]  [0]  [0]  [1]\n",
       "[0], [1], [1], [0], [1], [0], [0], [1], [1], [0], [0], [1], [0], [1],\n",
       "\n",
       "[0]  [1]\n",
       "[1]  [0]\n",
       "[1]  [0]\n",
       "[0]  [1]\n",
       "[1]  [0]\n",
       "[0]  [1]\n",
       "[0]  [1]\n",
       "[1], [0]\n",
       "]"
      ]
     },
     "execution_count": 47,
     "metadata": {},
     "output_type": "execute_result"
    }
   ],
   "source": [
    "matrix_codewords = []\n",
    "for codeword in GRM:\n",
    "    matrix = codeword_to_matrix(codeword, m)\n",
    "    matrix_codewords.append(matrix)"
   ]
  },
  {
   "cell_type": "code",
   "execution_count": 45,
   "metadata": {},
   "outputs": [],
   "source": [
    "for i in range(len(matrix_codewords)):\n",
    "    for j in range(i + 1, len(matrix_codewords)):\n",
    "        rank_distance = (matrix_codewords[i] - matrix_codewords[j]).rank()\n",
    "        M = matrix_codewords[i] + matrix_codewords[j]\n",
    "        if rank_distance == 0:\n",
    "            print(f\"符号語 {i+1} と {j+1} のランク距離が0\")\n",
    "        if M not in matrix_codewords:\n",
    "            print(f\"符号語 {i+1} と {j+1} が演算に閉じていない\")"
   ]
  },
  {
   "cell_type": "code",
   "execution_count": 46,
   "metadata": {},
   "outputs": [
    {
     "name": "stdout",
     "output_type": "stream",
     "text": [
      "符号の最小ランク距離: 1\n"
     ]
    }
   ],
   "source": [
    "min_rank_distance = float('inf')\n",
    "for i in range(len(matrix_codewords)):\n",
    "    for j in range(i + 1, len(matrix_codewords)):\n",
    "        rank_distance = (matrix_codewords[i] - matrix_codewords[j]).rank()\n",
    "        min_rank_distance = min(min_rank_distance, rank_distance)\n",
    "\n",
    "print(f\"符号の最小ランク距離: {min_rank_distance}\")"
   ]
  },
  {
   "cell_type": "markdown",
   "metadata": {},
   "source": [
    "## Reed-Muller符号からのブロックの構成  "
   ]
  },
  {
   "cell_type": "code",
   "execution_count": 62,
   "metadata": {},
   "outputs": [],
   "source": []
  }
 ],
 "metadata": {
  "kernelspec": {
   "display_name": "SageMath 10.5",
   "language": "sage",
   "name": "sagemath"
  },
  "language_info": {
   "codemirror_mode": {
    "name": "ipython",
    "version": 3
   },
   "file_extension": ".py",
   "mimetype": "text/x-python",
   "name": "python",
   "nbconvert_exporter": "python",
   "pygments_lexer": "ipython3",
   "version": "3.12.5"
  }
 },
 "nbformat": 4,
 "nbformat_minor": 4
}
