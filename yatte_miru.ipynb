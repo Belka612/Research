{
 "cells": [
  {
   "cell_type": "code",
   "execution_count": 3,
   "metadata": {},
   "outputs": [],
   "source": [
    "q = 2\n",
    "F = GF(q)\n",
    "C = codes.ReedMullerCode(F, 1, 3)\n",
    "n = C.length()\n",
    "V = F^n"
   ]
  },
  {
   "cell_type": "code",
   "execution_count": 9,
   "metadata": {},
   "outputs": [
    {
     "data": {
      "text/plain": [
       "[(0, 0, 0, 0, 0, 0, 0, 0),\n",
       " (1, 1, 1, 1, 1, 1, 1, 1),\n",
       " (0, 1, 0, 1, 0, 1, 0, 1),\n",
       " (1, 0, 1, 0, 1, 0, 1, 0),\n",
       " (0, 0, 1, 1, 0, 0, 1, 1),\n",
       " (1, 1, 0, 0, 1, 1, 0, 0),\n",
       " (0, 1, 1, 0, 0, 1, 1, 0),\n",
       " (1, 0, 0, 1, 1, 0, 0, 1),\n",
       " (0, 0, 0, 0, 1, 1, 1, 1),\n",
       " (1, 1, 1, 1, 0, 0, 0, 0),\n",
       " (0, 1, 0, 1, 1, 0, 1, 0),\n",
       " (1, 0, 1, 0, 0, 1, 0, 1),\n",
       " (0, 0, 1, 1, 1, 1, 0, 0),\n",
       " (1, 1, 0, 0, 0, 0, 1, 1),\n",
       " (0, 1, 1, 0, 1, 0, 0, 1),\n",
       " (1, 0, 0, 1, 0, 1, 1, 0)]"
      ]
     },
     "execution_count": 9,
     "metadata": {},
     "output_type": "execute_result"
    }
   ],
   "source": [
    "C.list()"
   ]
  },
  {
   "cell_type": "code",
   "execution_count": 6,
   "metadata": {},
   "outputs": [],
   "source": [
    "def lift_to_subspace(codeword):\n",
    "    supp = [i for i, x in enumerate(codeword) if x != 0]\n",
    "\n",
    "    if len(supp) == 0:\n",
    "        return None\n",
    "    basis = []\n",
    "    for i in range(len(supp)):\n",
    "        vec = vector(F, [1 if j == supp[i] else 0 for j in range(n)])\n",
    "        basis.append(vec)\n",
    "    return span(basis)"
   ]
  },
  {
   "cell_type": "code",
   "execution_count": 16,
   "metadata": {},
   "outputs": [],
   "source": [
    "weight_4_codewords = []\n",
    "for codeword in C.list():\n",
    "    w = 0\n",
    "    for c in codeword:\n",
    "        if c == 1:\n",
    "            w += 1\n",
    "    if w == 4:\n",
    "        weight_4_codewords.append(codeword)"
   ]
  },
  {
   "cell_type": "code",
   "execution_count": 18,
   "metadata": {},
   "outputs": [],
   "source": [
    "blocks_from_RM = []\n",
    "for codeword in weight_4_codewords:\n",
    "    blocks_from_RM.append(lift_to_subspace(codeword))"
   ]
  },
  {
   "cell_type": "code",
   "execution_count": null,
   "metadata": {},
   "outputs": [],
   "source": [
    "def is_subspace_design(blocks, t, V):\n",
    "    t_subspaces = list(V.subspaces(t))\n",
    "    res = True\n",
    "    "
   ]
  },
  {
   "cell_type": "code",
   "execution_count": 57,
   "metadata": {},
   "outputs": [],
   "source": [
    "from itertools import product\n",
    "\n",
    "def projective_reed_muller_code(q, m, d):\n",
    "    F = GF(q)\n",
    "    PG = ProjectiveSpace(m, F)\n",
    "\n",
    "    points = PG.rational_points()\n",
    "\n",
    "    normalized_points = []\n",
    "    for p in points:\n",
    "        coords = list(p)\n",
    "        for a in coords:\n",
    "            if a != F(0):\n",
    "                inv = 1 / a\n",
    "                normalized = [inv * x for x in coords]\n",
    "                break\n",
    "        normalized_points.append(tuple(normalized))\n",
    "    \n",
    "    R = PolynomialRing(F, 'x', m+1)\n",
    "    n = R.ngens()\n",
    "\n",
    "    monomials = []\n",
    "    for exponents in product(*[range(d+1) for i in range(n)]):\n",
    "        if sum(exponents) == d:\n",
    "            mon = prod(R.gen(i)**exponents[i] for i in range(n))\n",
    "            monomials.append(mon)\n",
    "    rows = []\n",
    "    for mon in monomials:\n",
    "        row = [mon(*pt) for pt in normalized_points]\n",
    "        rows.append(row)\n",
    "    G = Matrix(F, rows)\n",
    "\n",
    "    C = LinearCode(G)\n",
    "    return C\n",
    "\n",
    "PRMC = projective_reed_muller_code(2, 2, 2)"
   ]
  },
  {
   "cell_type": "code",
   "execution_count": 38,
   "metadata": {},
   "outputs": [],
   "source": [
    "def codeword_to_matrix(codeword, m):\n",
    "    expanded = []\n",
    "    for element in codeword:\n",
    "        poly = element.polynomial()\n",
    "        coeffs = poly.coefficients(sparse=False)\n",
    "        coeffs += [0] * (m - len(coeffs))\n",
    "        expanded.append(coeffs)\n",
    "    flat_list = [coeff for vec in expanded for coeff in vec]\n",
    "    return Matrix(GF(2), len(codeword), m, flat_list)"
   ]
  },
  {
   "cell_type": "code",
   "execution_count": 39,
   "metadata": {},
   "outputs": [],
   "source": [
    "matrix_codewords = []\n",
    "for codeword in PRMC:\n",
    "    matrix = codeword_to_matrix(codeword, 2)\n",
    "    matrix_codewords.append(matrix)"
   ]
  },
  {
   "cell_type": "code",
   "execution_count": 60,
   "metadata": {},
   "outputs": [],
   "source": [
    "from itertools import product\n",
    "\n",
    "def projective_reed_muller_code(q, m, d):\n",
    "    F = GF(q)\n",
    "    PG = ProjectiveSpace(m, F)\n",
    "    points = PG.rational_points()\n",
    "\n",
    "    normalized_points = []\n",
    "    for p in points:\n",
    "        coords = list(p)\n",
    "        for a in coords:\n",
    "            if a != F(0):\n",
    "                inv = 1 / a\n",
    "                normalized = [inv * x for x in coords]\n",
    "                break\n",
    "        normalized_points.append(tuple(normalized))\n",
    "\n",
    "    R = PolynomialRing(F, 'x', m+1)\n",
    "    n_vars = R.ngens()\n",
    "\n",
    "    monomials = []\n",
    "    for exponents in product(*[range(d+1) for i in range(n_vars)]):\n",
    "        if sum(exponents) == d:\n",
    "            mon = prod(R.gen(i)**exponents[i] for i in range(n_vars))\n",
    "            monomials.append(mon)\n",
    "\n",
    "    rows = []\n",
    "    for mon in monomials:\n",
    "        row = [mon(*pt) for pt in normalized_points]\n",
    "        rows.append(row)\n",
    "    G = Matrix(F, rows)\n",
    "    \n",
    "    C = LinearCode(G)\n",
    "    return C, normalized_points"
   ]
  },
  {
   "cell_type": "code",
   "execution_count": 61,
   "metadata": {},
   "outputs": [],
   "source": [
    "def support_projective_span(c, normalized_points, F):\n",
    "    support_indices = [i for i, val in enumerate(c) if val != F(0)]\n",
    "    support_points = [normalized_points[i] for i in support_indices]\n",
    "\n",
    "    vecs = [vector(F, pt) for pt in support_points]\n",
    "    if vecs:\n",
    "        V = span(vecs)\n",
    "        proj_dim = V.dimension() - 1  \n",
    "    else:\n",
    "        proj_dim = -1\n",
    "        \n",
    "    return set(support_points), proj_dim"
   ]
  },
  {
   "cell_type": "code",
   "execution_count": 62,
   "metadata": {},
   "outputs": [],
   "source": [
    "def PG_subspaces(PG, k):\n",
    "    F = PG.base_ring()\n",
    "    m = PG.dimension()\n",
    "    V = VectorSpace(F, m+1)\n",
    "    return V.subspaces(k+1)"
   ]
  },
  {
   "cell_type": "code",
   "execution_count": 63,
   "metadata": {},
   "outputs": [],
   "source": [
    "def subspaces_in_support(c, normalized_points, PG, k):\n",
    "    F = PG.base_ring()\n",
    "    support, _ = support_projective_span(c, normalized_points, F)\n",
    "    support_subspaces = []\n",
    "\n",
    "    for U in PG_subspaces(PG, k):\n",
    "        U_points = {pt for pt in normalized_points if vector(F, pt) in U}\n",
    "        if U_points.issubset(support):\n",
    "            support_subspaces.append(U)\n",
    "    return support_subspaces"
   ]
  },
  {
   "cell_type": "code",
   "execution_count": 64,
   "metadata": {},
   "outputs": [],
   "source": [
    "def max_subspace_in_support(c, normalized_points, PG):\n",
    "    F = PG.base_ring()\n",
    "    subspaces_dict = {}\n",
    "    max_k = -1\n",
    "    for k in range(PG.dimension()+1):\n",
    "        subs_k = subspaces_in_support(c, normalized_points, PG, k)\n",
    "        if subs_k:\n",
    "            subspaces_dict[k] = subs_k\n",
    "            max_k = k\n",
    "    return max_k, subspaces_dict"
   ]
  },
  {
   "cell_type": "code",
   "execution_count": 72,
   "metadata": {},
   "outputs": [],
   "source": [
    "q = 4; m = 2; d = 2\n",
    "F = GF(q)\n",
    "C, norm_pts = projective_reed_muller_code(q, m, d)\n",
    "PG = ProjectiveSpace(m, F)"
   ]
  },
  {
   "cell_type": "code",
   "execution_count": 74,
   "metadata": {},
   "outputs": [
    {
     "data": {
      "text/plain": [
       "Projective Space of dimension 2 over Finite Field in z2 of size 2^2"
      ]
     },
     "execution_count": 74,
     "metadata": {},
     "output_type": "execute_result"
    }
   ],
   "source": [
    "PG"
   ]
  }
 ],
 "metadata": {
  "kernelspec": {
   "display_name": "SageMath 10.5",
   "language": "sage",
   "name": "sagemath"
  },
  "language_info": {
   "codemirror_mode": {
    "name": "ipython",
    "version": 3
   },
   "file_extension": ".py",
   "mimetype": "text/x-python",
   "name": "python",
   "nbconvert_exporter": "python",
   "pygments_lexer": "ipython3",
   "version": "3.12.5"
  }
 },
 "nbformat": 4,
 "nbformat_minor": 2
}
